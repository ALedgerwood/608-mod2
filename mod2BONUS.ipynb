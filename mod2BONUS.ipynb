{
 "cells": [
  {
   "cell_type": "code",
   "execution_count": 12,
   "id": "2ef25dda-5719-4369-b0db-d0e33a34e886",
   "metadata": {},
   "outputs": [
    {
     "name": "stdout",
     "output_type": "stream",
     "text": [
      "The Count of values = 100.00\n",
      "The Total of values = 695.20\n",
      "The Mean of values = 6.95\n",
      "The Median of values = 6.40\n",
      "The Mode of values = 1.70\n"
     ]
    }
   ],
   "source": [
    "# calculating central tendencies of fabric yardage used per month\n",
    "#data points called value represent yards used per month, for 100 months\n",
    "#Alex Ledgerwood\n",
    "\n",
    "import statistics\n",
    "\n",
    "value = [3.1, 8.2, 4.6, 0.7, 7.4, 6.5, 1.7, 14.8, 1.9, 13.9, 5.9, 1.2, 3.5, 0.5, 12.0, 6.9, 5.6, 1.3, 13.7, 4.9, 4.8, 2.0, 11.4, 6.8, 0.8, 15.0, 2.8, 7.8, 13.5, 14.8, 2.4, 6.3, 8.1, 14.7, 1.5, 14.3, 6.3, 3.8, 2.4, 4.2, 5.2, 3.0, 12.9, 12.2, 11.8, 6.2, 1.6, 1.1, 0.0, 1.7, 1.7, 7.8, 3.3, 6.1, 1.7, 1.2, 1.2, 6.3, 5.2, 8.6, 11.0, 4.7, 7.5, 4.5, 13.2, 14.2, 10.7, 6.7, 3.6, 6.9, 2.3, 11.4, 9.5, 4.8, 8.4, 14.5, 11.3, 7.1, 7.8, 13.8, 9.4, 7.8, 11.8, 7.3, 4.7, 7.1, 14.5, 5.0, 4.9, 14.6, 7.9, 9.3, 12.2, 10.6, 3.3, 13.7, 1.4, 8.2, 3.4, 3.4]\n",
    "\n",
    "print (f'The Count of values = { len(value):0.2f}') \n",
    "print (f'The Total of values = { sum(value):0.2f}') \n",
    "print (f'The Mean of values = { sum(value) / len(value):0.2f}') \n",
    "print (f'The Median of values = { statistics.median(value):0.2f}') \n",
    "print (f'The Mode of values = { statistics.mode(value):0.2f}')"
   ]
  },
  {
   "cell_type": "code",
   "execution_count": null,
   "id": "e5ed2a22-1342-4c1d-953e-14cb6f8794ba",
   "metadata": {},
   "outputs": [],
   "source": [
    "# It is interesting that the mode is so much smaller than the mean and median. \n",
    "# Although on average I use 6-7 yards per month, I most often only use 1-2 yards.\n",
    "# Those few months I use a lot of fabirc really impact the mean."
   ]
  }
 ],
 "metadata": {
  "kernelspec": {
   "display_name": "Python 3 (ipykernel)",
   "language": "python",
   "name": "python3"
  },
  "language_info": {
   "codemirror_mode": {
    "name": "ipython",
    "version": 3
   },
   "file_extension": ".py",
   "mimetype": "text/x-python",
   "name": "python",
   "nbconvert_exporter": "python",
   "pygments_lexer": "ipython3",
   "version": "3.9.12"
  }
 },
 "nbformat": 4,
 "nbformat_minor": 5
}

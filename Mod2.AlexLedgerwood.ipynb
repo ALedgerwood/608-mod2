{
 "cells": [
  {
   "cell_type": "code",
   "execution_count": 13,
   "id": "f58f21bd-85c5-4605-9da2-1975f08720d4",
   "metadata": {},
   "outputs": [
    {
     "name": "stdout",
     "output_type": "stream",
     "text": [
      "D\n"
     ]
    }
   ],
   "source": [
    "#grade number to grade letter using if, elif, and else\n",
    "\n",
    "grade = 66\n",
    "if grade >= 90:\n",
    "    print('A')\n",
    "elif grade >= 80:\n",
    "    print('B')\n",
    "elif grade >= 70:\n",
    "    print('C')\n",
    "elif grade >= 60:\n",
    "    print('D')\n",
    "else:\n",
    "    print('You failed')\n",
    "    print('Try again')"
   ]
  },
  {
   "cell_type": "code",
   "execution_count": 14,
   "id": "c6e79a11-7239-47d3-9ce3-c7d7789ee072",
   "metadata": {},
   "outputs": [
    {
     "data": {
      "text/plain": [
       "200"
      ]
     },
     "execution_count": 14,
     "metadata": {},
     "output_type": "execute_result"
    }
   ],
   "source": [
    "#practice with while statements\n",
    "\n",
    "product = 50\n",
    "while product <= 150:\n",
    "    product = product * 2\n",
    "product"
   ]
  },
  {
   "cell_type": "code",
   "execution_count": 16,
   "id": "daf7e17b-4a03-4694-a417-4e515337917c",
   "metadata": {},
   "outputs": [
    {
     "data": {
      "text/plain": [
       "29"
      ]
     },
     "execution_count": 16,
     "metadata": {},
     "output_type": "execute_result"
    }
   ],
   "source": [
    "#3.8 self check\n",
    "#practice with for statements\n",
    "\n",
    "total = 0\n",
    "\n",
    "for number in [2, 5, 1, 7, 14]:\n",
    "    total = total + number\n",
    "total"
   ]
  },
  {
   "cell_type": "code",
   "execution_count": 38,
   "id": "8dfc7acd-c7ad-4e18-92b4-d659e2ac4a74",
   "metadata": {},
   "outputs": [
    {
     "name": "stdout",
     "output_type": "stream",
     "text": [
      "0  1  2  3  4  5  6  7  8  9  "
     ]
    }
   ],
   "source": [
    "#3.8.2 self check\n",
    "#practice with for statements using range\n",
    "\n",
    "for counter in range(10):\n",
    "    print(counter, end='  ')"
   ]
  },
  {
   "cell_type": "code",
   "execution_count": 39,
   "id": "45563c50-9213-480f-a8a6-d8aa8568f4d2",
   "metadata": {},
   "outputs": [
    {
     "data": {
      "text/plain": [
       "21"
      ]
     },
     "execution_count": 39,
     "metadata": {},
     "output_type": "execute_result"
    }
   ],
   "source": [
    "#3.9 self check\n",
    "#practice with augmented assignments\n",
    "\n",
    "total = 0\n",
    "\n",
    "for number in [2, 4, 1, 9, 5]:\n",
    "    total += number\n",
    "total"
   ]
  },
  {
   "cell_type": "code",
   "execution_count": 33,
   "id": "a410e71d-2447-4657-b376-58b3d54fd172",
   "metadata": {},
   "outputs": [
    {
     "data": {
      "text/plain": [
       "30"
      ]
     },
     "execution_count": 33,
     "metadata": {},
     "output_type": "execute_result"
    }
   ],
   "source": [
    "x = 15\n",
    "x *= 2\n",
    "x"
   ]
  },
  {
   "cell_type": "code",
   "execution_count": 37,
   "id": "b3bc6fdd-7776-416c-96fd-368337d097dd",
   "metadata": {},
   "outputs": [
    {
     "name": "stdout",
     "output_type": "stream",
     "text": [
      "Class average is 81.7\n"
     ]
    }
   ],
   "source": [
    "#3.10.3\n",
    "#practice class average program\n",
    "\n",
    "#initialization phase\n",
    "total = 0\n",
    "grade_counter = 0\n",
    "grades = [98, 76, 71, 87, 83, 90, 57, 79, 82, 94]\n",
    "\n",
    "#processing phase\n",
    "for grade in grades:\n",
    "    total += grade\n",
    "    grade_counter += 1\n",
    "    \n",
    "#termination phase\n",
    "average = total / grade_counter\n",
    "print(f'Class average is {average}')\n"
   ]
  },
  {
   "cell_type": "code",
   "execution_count": 41,
   "id": "c5ff85f2-05b4-4f92-89b0-12a9358838a5",
   "metadata": {},
   "outputs": [
    {
     "name": "stdout",
     "output_type": "stream",
     "text": [
      "0  2  4  6  8  "
     ]
    }
   ],
   "source": [
    "#3.13 self check\n",
    "#practice with two and three-argument versions of the range function\n",
    "\n",
    "for number in range(0, 10, 2):\n",
    "    print(number, end='  ')"
   ]
  },
  {
   "cell_type": "code",
   "execution_count": 49,
   "id": "550bc476-1033-4273-b607-ddcb79ac77a7",
   "metadata": {},
   "outputs": [
    {
     "name": "stdout",
     "output_type": "stream",
     "text": [
      "300  275  250  225  "
     ]
    }
   ],
   "source": [
    "#more range function practice\n",
    "\n",
    "for number in range(300, 200, -25):\n",
    "    print(number, end='  ')"
   ]
  },
  {
   "cell_type": "code",
   "execution_count": 51,
   "id": "74bed66c-bcd9-46f4-9188-9ce57b2d5032",
   "metadata": {},
   "outputs": [
    {
     "name": "stdout",
     "output_type": "stream",
     "text": [
      "0  1  2  3  4  5  6  7  8  "
     ]
    }
   ],
   "source": [
    "#3.15\n",
    "#practice with break and continue statements\n",
    "\n",
    "for number in range(10):\n",
    "    if number == 9:\n",
    "        break\n",
    "    print(number, end='  ')"
   ]
  },
  {
   "cell_type": "code",
   "execution_count": 52,
   "id": "972d4b22-8288-4fd6-970b-834e11165d86",
   "metadata": {},
   "outputs": [
    {
     "name": "stdout",
     "output_type": "stream",
     "text": [
      "0  1  2  4  5  6  7  8  9  "
     ]
    }
   ],
   "source": [
    "#3.15\n",
    "#practice with break and continue statements\n",
    "\n",
    "for number in range(10):\n",
    "    if number == 3:\n",
    "        continue\n",
    "    print(number, end='  ')"
   ]
  },
  {
   "cell_type": "code",
   "execution_count": 53,
   "id": "da8b59df-0a94-410f-aac1-9050b398ea11",
   "metadata": {},
   "outputs": [
    {
     "data": {
      "text/plain": [
       "True"
      ]
     },
     "execution_count": 53,
     "metadata": {},
     "output_type": "execute_result"
    }
   ],
   "source": [
    "#3.16 self check\n",
    "#practice with boolean operators\n",
    "\n",
    "i = 1\n",
    "j = 2\n",
    "k = 3\n",
    "m = 2\n",
    "(i >= 1) and (j < 4)"
   ]
  },
  {
   "cell_type": "code",
   "execution_count": 54,
   "id": "19a0048c-bdb3-4552-a264-1056dcc903aa",
   "metadata": {},
   "outputs": [
    {
     "data": {
      "text/plain": [
       "False"
      ]
     },
     "execution_count": 54,
     "metadata": {},
     "output_type": "execute_result"
    }
   ],
   "source": [
    "(m <= 99) and (k < m)"
   ]
  },
  {
   "cell_type": "code",
   "execution_count": 55,
   "id": "4cfc7af0-cefd-4498-a9ba-63b96f620eac",
   "metadata": {},
   "outputs": [
    {
     "data": {
      "text/plain": [
       "False"
      ]
     },
     "execution_count": 55,
     "metadata": {},
     "output_type": "execute_result"
    }
   ],
   "source": [
    "(j <= i) or (k == m)"
   ]
  },
  {
   "cell_type": "code",
   "execution_count": 58,
   "id": "703f09b5-ec80-4b4a-b99e-8cc732041b41",
   "metadata": {},
   "outputs": [
    {
     "data": {
      "text/plain": [
       "False"
      ]
     },
     "execution_count": 58,
     "metadata": {},
     "output_type": "execute_result"
    }
   ],
   "source": [
    "(k + m < j) or (3 - j >= k)"
   ]
  },
  {
   "cell_type": "code",
   "execution_count": 59,
   "id": "dd2f4472-4de0-4230-ae57-72819ac8cdf8",
   "metadata": {},
   "outputs": [
    {
     "data": {
      "text/plain": [
       "False"
      ]
     },
     "execution_count": 59,
     "metadata": {},
     "output_type": "execute_result"
    }
   ],
   "source": [
    "not (k > m)"
   ]
  },
  {
   "cell_type": "code",
   "execution_count": 62,
   "id": "12f8cfbd-134d-4a6b-aeb4-fd7240a8406e",
   "metadata": {},
   "outputs": [
    {
     "name": "stdout",
     "output_type": "stream",
     "text": [
      "The count is 6\n",
      "The sum is 475\n",
      "The mean is 79.16666666666667\n"
     ]
    }
   ],
   "source": [
    "#6 Calculate Measures of Central Tendency - Native Pytho\n",
    "#using data poitns from 4 on page 111 to calculate count, sum and mean\n",
    "\n",
    "values = [47, 95, 88, 73, 88, 84]\n",
    "\n",
    "count = len(values)\n",
    "total = sum(values)\n",
    "mean = total / count\n",
    "\n",
    "print('The count is', count)\n",
    "print('The sum is', total)\n",
    "print('The mean is', mean)"
   ]
  },
  {
   "cell_type": "code",
   "execution_count": 67,
   "id": "95a80fe2-fa9b-4ccc-8bbe-1247e1b1351c",
   "metadata": {},
   "outputs": [],
   "source": [
    "#7 Calculate Measures of Central Tendency - with Statistic Module\n",
    "import statistics"
   ]
  },
  {
   "cell_type": "code",
   "execution_count": 64,
   "id": "32fa8c69-5ecf-4564-97c0-5893da2d6f9b",
   "metadata": {},
   "outputs": [
    {
     "data": {
      "text/plain": [
       "79.16666666666667"
      ]
     },
     "execution_count": 64,
     "metadata": {},
     "output_type": "execute_result"
    }
   ],
   "source": [
    "statistics.mean(values)"
   ]
  },
  {
   "cell_type": "code",
   "execution_count": 65,
   "id": "dcb72b23-597a-4fed-8915-1cc628f62cb6",
   "metadata": {},
   "outputs": [
    {
     "data": {
      "text/plain": [
       "86.0"
      ]
     },
     "execution_count": 65,
     "metadata": {},
     "output_type": "execute_result"
    }
   ],
   "source": [
    "statistics.median(values)"
   ]
  },
  {
   "cell_type": "code",
   "execution_count": 66,
   "id": "16eada68-c5ef-4989-9a45-ced6f640fb8e",
   "metadata": {},
   "outputs": [
    {
     "data": {
      "text/plain": [
       "88"
      ]
     },
     "execution_count": 66,
     "metadata": {},
     "output_type": "execute_result"
    }
   ],
   "source": [
    "statistics.mode(values)"
   ]
  },
  {
   "cell_type": "code",
   "execution_count": 90,
   "id": "5b5ede6e-2f1a-4981-9d4d-b78999819dde",
   "metadata": {},
   "outputs": [
    {
     "name": "stdout",
     "output_type": "stream",
     "text": [
      "The count is 5\n",
      "The total is 202\n",
      "The mean is 40.4\n"
     ]
    }
   ],
   "source": [
    "#8 Custom Central Tendency\n",
    "#practice with my own data set Alex Ledgerwood\n",
    "\n",
    "value = [42, 14, 16, 72, 58]\n",
    "count = len(value)\n",
    "total = sum(value)\n",
    "mean = total / count\n",
    "\n",
    "print('The count is', count)\n",
    "print('The total is', total)\n",
    "print('The mean is', mean)"
   ]
  },
  {
   "cell_type": "code",
   "execution_count": 91,
   "id": "893a6c46-ed90-4485-bd43-90c9e7e149c7",
   "metadata": {},
   "outputs": [
    {
     "data": {
      "text/plain": [
       "40.4"
      ]
     },
     "execution_count": 91,
     "metadata": {},
     "output_type": "execute_result"
    }
   ],
   "source": [
    "statistics.mean(value)"
   ]
  },
  {
   "cell_type": "code",
   "execution_count": 92,
   "id": "57d650e0-debe-4438-bf30-2f6fdf5847e4",
   "metadata": {},
   "outputs": [
    {
     "data": {
      "text/plain": [
       "42"
      ]
     },
     "execution_count": 92,
     "metadata": {},
     "output_type": "execute_result"
    }
   ],
   "source": [
    "statistics.mode(value)"
   ]
  },
  {
   "cell_type": "code",
   "execution_count": 93,
   "id": "08004450-5a9b-4d34-a9f4-f0a32888cdf6",
   "metadata": {},
   "outputs": [
    {
     "data": {
      "text/plain": [
       "42"
      ]
     },
     "execution_count": 93,
     "metadata": {},
     "output_type": "execute_result"
    }
   ],
   "source": [
    "statistics.median(value)"
   ]
  },
  {
   "cell_type": "code",
   "execution_count": null,
   "id": "df56b6c3-7e4b-4c8e-889f-cc094e4bb282",
   "metadata": {},
   "outputs": [],
   "source": []
  }
 ],
 "metadata": {
  "kernelspec": {
   "display_name": "Python 3 (ipykernel)",
   "language": "python",
   "name": "python3"
  },
  "language_info": {
   "codemirror_mode": {
    "name": "ipython",
    "version": 3
   },
   "file_extension": ".py",
   "mimetype": "text/x-python",
   "name": "python",
   "nbconvert_exporter": "python",
   "pygments_lexer": "ipython3",
   "version": "3.9.12"
  }
 },
 "nbformat": 4,
 "nbformat_minor": 5
}
